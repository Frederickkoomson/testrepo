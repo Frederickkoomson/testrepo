{
 "cells": [
  {
   "cell_type": "markdown",
   "id": "aa5a5a54-3d54-4387-b8d4-329412ab9064",
   "metadata": {},
   "source": [
    "# Data Science Tools and Ecosystem"
   ]
  },
  {
   "cell_type": "markdown",
   "id": "42219dec-2b33-4839-b748-c2d57ddce8ce",
   "metadata": {
    "tags": []
   },
   "source": [
    "## In this notebook, Data Science Tools and Ecosystem are summarized"
   ]
  },
  {
   "cell_type": "markdown",
   "id": "f1376dce-7ee3-4d22-aa9f-64c1ba43a8ff",
   "metadata": {},
   "source": [
    "__Objectives:__\n",
    "* Python\n",
    "* R\n",
    "* SQL \n",
    "* Julia"
   ]
  },
  {
   "cell_type": "markdown",
   "id": "706283c2-5235-433b-b51c-bf95c4843de5",
   "metadata": {
    "tags": []
   },
   "source": [
    "### Some of the popular languages that Data Scientists use are:\n",
    "1. Python\n",
    "1. R\n",
    "1. Julia\n",
    "1. Go\n",
    "1. Java"
   ]
  },
  {
   "cell_type": "markdown",
   "id": "6dc89cd1-c3e7-419d-839a-34dc4110bb18",
   "metadata": {
    "tags": []
   },
   "source": [
    "### Some of the commonly used libraries used by Data Scientists include:\n",
    "1. Ggplot\n",
    "1. Keras\n",
    "1. Pytourch\n",
    "1. Scrapy"
   ]
  },
  {
   "cell_type": "markdown",
   "id": "748ee089-3a22-4408-9039-bcd8ec1a1198",
   "metadata": {},
   "source": [
    "|Data Science Tools|\n",
    "|:-----------------|\n",
    "|Python|\n",
    "|TensorFlow|\n",
    "|Matlab|\n",
    "|Docker|"
   ]
  },
  {
   "cell_type": "markdown",
   "id": "dd274e03-0226-428c-932e-b83040dd5736",
   "metadata": {},
   "source": [
    "### Below are a few examples of evaluating arithmetic expressions in Python\n"
   ]
  },
  {
   "cell_type": "code",
   "execution_count": 2,
   "id": "cb1850ed-1725-479a-84c4-3c7bfe63c247",
   "metadata": {
    "tags": []
   },
   "outputs": [
    {
     "data": {
      "text/plain": [
       "17"
      ]
     },
     "execution_count": 2,
     "metadata": {},
     "output_type": "execute_result"
    }
   ],
   "source": [
    "# This a simple arithmetic expression to mutiply then add integers\n",
    "(3*4)+5"
   ]
  },
  {
   "cell_type": "code",
   "execution_count": 3,
   "id": "180eeec0-d882-4773-9c3e-e2dc04089bbc",
   "metadata": {
    "tags": []
   },
   "outputs": [
    {
     "name": "stdout",
     "output_type": "stream",
     "text": [
      "3.3333333333333335\n"
     ]
    }
   ],
   "source": [
    "# This will convert 200 minutes to hours by diving by 60\n",
    "minute = 200\n",
    "minutes_to_hours = 60\n",
    "hours = minute / minutes_to_hours\n",
    "print(hours)"
   ]
  },
  {
   "cell_type": "markdown",
   "id": "cda123c0-faf4-4671-aa6a-eb091fa85cfc",
   "metadata": {},
   "source": [
    "## Author\n",
    "Frederick Koomson"
   ]
  },
  {
   "cell_type": "code",
   "execution_count": null,
   "id": "a0553d3c-c789-4e7f-9137-975258184d13",
   "metadata": {},
   "outputs": [],
   "source": []
  }
 ],
 "metadata": {
  "kernelspec": {
   "display_name": "Python",
   "language": "python",
   "name": "conda-env-python-py"
  },
  "language_info": {
   "codemirror_mode": {
    "name": "ipython",
    "version": 3
   },
   "file_extension": ".py",
   "mimetype": "text/x-python",
   "name": "python",
   "nbconvert_exporter": "python",
   "pygments_lexer": "ipython3",
   "version": "3.7.12"
  }
 },
 "nbformat": 4,
 "nbformat_minor": 5
}
